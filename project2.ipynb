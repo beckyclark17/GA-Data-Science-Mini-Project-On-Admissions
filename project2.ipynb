{
 "cells": [
  {
   "cell_type": "markdown",
   "metadata": {},
   "source": [
    "# Project 2\n",
    "\n",
    "In this project, you will implement the exploratory analysis plan developed in Project 1. This will lay the groundwork for our our first modeling exercise in Project 3."
   ]
  },
  {
   "cell_type": "markdown",
   "metadata": {},
   "source": [
    "### Step 1: Load the python libraries you will need for this project "
   ]
  },
  {
   "cell_type": "code",
   "execution_count": 1,
   "metadata": {
    "collapsed": true
   },
   "outputs": [],
   "source": [
    "#imports\n",
    "from __future__ import division\n",
    "import pandas as pd\n",
    "import numpy as np\n",
    "import matplotlib.pyplot as plt\n",
    "import statsmodels.api as sm\n",
    "import pylab as pl\n",
    "import numpy as np\n",
    "%matplotlib inline"
   ]
  },
  {
   "cell_type": "markdown",
   "metadata": {},
   "source": [
    "### Step 2: Read in your data set "
   ]
  },
  {
   "cell_type": "code",
   "execution_count": 2,
   "metadata": {
    "collapsed": false
   },
   "outputs": [
    {
     "name": "stdout",
     "output_type": "stream",
     "text": [
      "   admit    gre   gpa  prestige\n",
      "0      0  380.0  3.61       3.0\n",
      "1      1  660.0  3.67       3.0\n",
      "2      1  800.0  4.00       1.0\n",
      "3      1  640.0  3.19       4.0\n",
      "4      0  520.0  2.93       4.0\n"
     ]
    }
   ],
   "source": [
    "#Read in data from source \n",
    "df_raw = pd.read_csv(\"../assets/admissions.csv\")\n",
    "print (df_raw.head())"
   ]
  },
  {
   "cell_type": "markdown",
   "metadata": {},
   "source": [
    "## Questions\n",
    "#### Question 1. How many observations are in our dataset? \n"
   ]
  },
  {
   "cell_type": "code",
   "execution_count": 25,
   "metadata": {
    "collapsed": false,
    "scrolled": false
   },
   "outputs": [
    {
     "name": "stdout",
     "output_type": "stream",
     "text": [
      "Answer: 400\n"
     ]
    }
   ],
   "source": [
    "print(\"Answer:\" ,len(df_raw.index))"
   ]
  },
  {
   "cell_type": "markdown",
   "metadata": {},
   "source": [
    "#### Question 2. Create a summary table"
   ]
  },
  {
   "cell_type": "code",
   "execution_count": 13,
   "metadata": {
    "collapsed": false
   },
   "outputs": [
    {
     "data": {
      "text/html": [
       "<div>\n",
       "<table border=\"1\" class=\"dataframe\">\n",
       "  <thead>\n",
       "    <tr style=\"text-align: right;\">\n",
       "      <th></th>\n",
       "      <th>admit</th>\n",
       "      <th>gre</th>\n",
       "      <th>gpa</th>\n",
       "      <th>prestige</th>\n",
       "    </tr>\n",
       "  </thead>\n",
       "  <tbody>\n",
       "    <tr>\n",
       "      <th>count</th>\n",
       "      <td>400.000000</td>\n",
       "      <td>398.000000</td>\n",
       "      <td>398.00000</td>\n",
       "      <td>399.000000</td>\n",
       "    </tr>\n",
       "    <tr>\n",
       "      <th>mean</th>\n",
       "      <td>0.317500</td>\n",
       "      <td>588.040201</td>\n",
       "      <td>3.39093</td>\n",
       "      <td>2.486216</td>\n",
       "    </tr>\n",
       "    <tr>\n",
       "      <th>std</th>\n",
       "      <td>0.466087</td>\n",
       "      <td>115.628513</td>\n",
       "      <td>0.38063</td>\n",
       "      <td>0.945333</td>\n",
       "    </tr>\n",
       "    <tr>\n",
       "      <th>min</th>\n",
       "      <td>0.000000</td>\n",
       "      <td>220.000000</td>\n",
       "      <td>2.26000</td>\n",
       "      <td>1.000000</td>\n",
       "    </tr>\n",
       "    <tr>\n",
       "      <th>25%</th>\n",
       "      <td>0.000000</td>\n",
       "      <td>520.000000</td>\n",
       "      <td>3.13000</td>\n",
       "      <td>2.000000</td>\n",
       "    </tr>\n",
       "    <tr>\n",
       "      <th>50%</th>\n",
       "      <td>0.000000</td>\n",
       "      <td>580.000000</td>\n",
       "      <td>3.39500</td>\n",
       "      <td>2.000000</td>\n",
       "    </tr>\n",
       "    <tr>\n",
       "      <th>75%</th>\n",
       "      <td>1.000000</td>\n",
       "      <td>660.000000</td>\n",
       "      <td>3.67000</td>\n",
       "      <td>3.000000</td>\n",
       "    </tr>\n",
       "    <tr>\n",
       "      <th>max</th>\n",
       "      <td>1.000000</td>\n",
       "      <td>800.000000</td>\n",
       "      <td>4.00000</td>\n",
       "      <td>4.000000</td>\n",
       "    </tr>\n",
       "  </tbody>\n",
       "</table>\n",
       "</div>"
      ],
      "text/plain": [
       "            admit         gre        gpa    prestige\n",
       "count  400.000000  398.000000  398.00000  399.000000\n",
       "mean     0.317500  588.040201    3.39093    2.486216\n",
       "std      0.466087  115.628513    0.38063    0.945333\n",
       "min      0.000000  220.000000    2.26000    1.000000\n",
       "25%      0.000000  520.000000    3.13000    2.000000\n",
       "50%      0.000000  580.000000    3.39500    2.000000\n",
       "75%      1.000000  660.000000    3.67000    3.000000\n",
       "max      1.000000  800.000000    4.00000    4.000000"
      ]
     },
     "execution_count": 13,
     "metadata": {},
     "output_type": "execute_result"
    }
   ],
   "source": [
    "#function\n",
    "df_raw.describe()"
   ]
  },
  {
   "cell_type": "markdown",
   "metadata": {},
   "source": [
    "#### Question 3. Why would GRE have a larger STD than GPA?"
   ]
  },
  {
   "cell_type": "markdown",
   "metadata": {},
   "source": [
    "Answer: Standard deviation is a measure of distibution from the mean. The range is between the min and max, the observed range of values for gpa is 2.26 to 4, whilst for GRE it's 220 to 800.  And the mean is 3.39 and 588, respectively. Therefore we can assume that the standard deviation for GRE will always be larger in order to explain the larger variance from the mean.\n"
   ]
  },
  {
   "cell_type": "markdown",
   "metadata": {
    "collapsed": true
   },
   "source": [
    "#### Question 4. Drop data points with missing data\n"
   ]
  },
  {
   "cell_type": "code",
   "execution_count": 3,
   "metadata": {
    "collapsed": false
   },
   "outputs": [
    {
     "name": "stdout",
     "output_type": "stream",
     "text": [
      "without nulls 397\n"
     ]
    }
   ],
   "source": [
    "print(\"without nulls\",len(df_raw.dropna())) \n",
    "df_nonulls = df_raw.dropna()"
   ]
  },
  {
   "cell_type": "markdown",
   "metadata": {
    "collapsed": true
   },
   "source": [
    "#### Question 5. Confirm that you dropped the correct data. How can you tell? "
   ]
  },
  {
   "cell_type": "markdown",
   "metadata": {},
   "source": [
    "Answer:"
   ]
  },
  {
   "cell_type": "code",
   "execution_count": 13,
   "metadata": {
    "collapsed": false
   },
   "outputs": [
    {
     "name": "stdout",
     "output_type": "stream",
     "text": [
      "Total number of nulls in the df: 5\n",
      "\n",
      "Total rows: 400\n",
      "\n",
      "Orginal admit       400\n",
      "gre         398\n",
      "gpa         398\n",
      "prestige    399\n",
      "dtype: int64\n",
      "\n",
      "no nulls admit       397\n",
      "gre         397\n",
      "gpa         397\n",
      "prestige    397\n",
      "dtype: int64\n",
      "\n",
      "Any nulls: False\n"
     ]
    }
   ],
   "source": [
    "print(\"Total number of nulls in the df:\", df_raw.isnull().sum().sum())\n",
    "print()\n",
    "#You can compare a len() function which includes nulls to a count() function which excludes nulls\n",
    "print(\"Total rows:\", len(df_raw.index)) # len includes nulls \n",
    "print()\n",
    "print('Orginal',df_raw.count()) \n",
    "print() \n",
    "print('no nulls', df_nonulls.count()) # no nulls df \n",
    "print()\n",
    "#You could also check that no nulls exist in your new data frame, confirmed by False:    \n",
    "print(\"Any nulls:\",df_nonulls.isnull().values.any())"
   ]
  },
  {
   "cell_type": "markdown",
   "metadata": {},
   "source": [
    "#### Question 6. Create box plots for GRE and GPA"
   ]
  },
  {
   "cell_type": "code",
   "execution_count": 27,
   "metadata": {
    "collapsed": false
   },
   "outputs": [
    {
     "data": {
      "text/plain": [
       "<matplotlib.axes._subplots.AxesSubplot at 0xbf1be10>"
      ]
     },
     "execution_count": 27,
     "metadata": {},
     "output_type": "execute_result"
    },
    {
     "data": {
      "image/png": "[encoded data removed]",
      "text/plain": [
       "<matplotlib.figure.Figure at 0xc069e80>"
      ]
     },
     "metadata": {},
     "output_type": "display_data"
    }
   ],
   "source": [
    "#boxplot 1\n",
    "#df_nonulls[['gre']].boxplot()\n",
    "#or \n",
    "df_nonulls['gre'].plot(kind=\"box\", figsize=(5,5))\n",
    "\n",
    "## Q: you suggested this to show the values for outliers but I can't get it to work, perhaps because I'm using Python 3?\n",
    "#print (bp['fliers'][0].get_xydata()) \n"
   ]
  },
  {
   "cell_type": "code",
   "execution_count": 39,
   "metadata": {
    "collapsed": false
   },
   "outputs": [
    {
     "name": "stdout",
     "output_type": "stream",
     "text": [
      "upper whisker: 4.48\n"
     ]
    },
    {
     "data": {
      "image/png": "[encoded data removed]",
      "text/plain": [
       "<matplotlib.figure.Figure at 0xc59a2b0>"
      ]
     },
     "metadata": {},
     "output_type": "display_data"
    }
   ],
   "source": [
    "#boxplot 2 \n",
    "df_nonulls['gpa'].plot(kind=\"box\", figsize=(5,5)) \n",
    "\n",
    "Q1 = df_nonulls['gpa'].quantile(.25)\n",
    "Q3 = df_nonulls['gpa'].quantile(.75)\n",
    "print('upper whisker:', Q3+((Q3-Q1)*1.5))\n"
   ]
  },
  {
   "cell_type": "markdown",
   "metadata": {},
   "source": [
    "#### Question 7. What do this plots show?"
   ]
  },
  {
   "cell_type": "markdown",
   "metadata": {},
   "source": [
    "Answer: \n",
    "They show the quantile distribution of values.  GRE boxplot identifies 2 outliers, and 1 for GPA. Does it suggests that GRE is slightly skewed as the median is not evenly between the 25% and 75% quartiles? GRE looks more normal.\n",
    "\n",
    "My calc for upper whisker above = 4.48, The plot shows a figure closer to 4. What I was struggling to interpret is, if the median sits evenly between Q1 and Q3, then I would expect the whiskers to also be symmetrical? Have I got the calculation wrong?\n"
   ]
  },
  {
   "cell_type": "markdown",
   "metadata": {},
   "source": [
    "#### Question 8. Describe each distribution "
   ]
  },
  {
   "cell_type": "markdown",
   "metadata": {},
   "source": [
    "Gre and gpa are normally distributed, both are slightly negatively skewed, -0.14 and -0.21 respectively. \n",
    "Prestige is symmetrical, with a very low skew value of 0.08, the variable is categorical variable so shows some odd troughs.\n",
    "Would you use a density plot for a categorical variable? Should I create dummy variables?\n"
   ]
  },
  {
   "cell_type": "code",
   "execution_count": 47,
   "metadata": {
    "collapsed": false
   },
   "outputs": [
    {
     "name": "stdout",
     "output_type": "stream",
     "text": [
      "prestige\n",
      "Mean: 2.4886649874055418\n",
      "Skew: 0.0865055528971\n",
      "Kurtosis aka peakedness (Values closer to 0 suggest normal dist): -0.90103795489\n"
     ]
    },
    {
     "data": {
      "text/plain": [
       "<matplotlib.collections.LineCollection at 0xc9d9a20>"
      ]
     },
     "execution_count": 47,
     "metadata": {},
     "output_type": "execute_result"
    },
    {
     "data": {
      "image/png": "[encoded data removed]",
      "text/plain": [
       "<matplotlib.figure.Figure at 0xc9d90b8>"
      ]
     },
     "metadata": {},
     "output_type": "display_data"
    }
   ],
   "source": [
    "# plot the distribution of each variable \n",
    "\n",
    "#**********************\n",
    "set_variable = 'prestige' ## gre, gpa, prestige, admit\n",
    "#**********************\n",
    "print(set_variable)\n",
    "print(\"Mean:\", df_nonulls[set_variable].mean())\n",
    "print (\"Skew:\", df_nonulls[set_variable].skew())\n",
    "print (\"Kurtosis aka peakedness (Values closer to 0 suggest normal dist):\", df_nonulls[set_variable].kurt())\n",
    "\n",
    "#calculating max y value \n",
    "q1 = df_nonulls[set_variable].quantile(.25)\n",
    "q2 = df_nonulls[set_variable].quantile(.5) \n",
    "# Couldn't figure out how is the y value calculated on a density plot?!\n",
    "# maxy = df_nonulls[(df_nonulls[set_variable]>=q1) & (df_nonulls[set_variable]<=q2)][set_variable].count()/df_nonulls[set_variable].count()\n",
    "\n",
    "maxY = 0.5\n",
    "\n",
    "df_nonulls[set_variable].plot(kind=\"density\", figsize=(5,5))\n",
    "    \n",
    "plt.vlines(df_nonulls[set_variable].mean(),     # Plot black line at mean\n",
    "              ymin=0, \n",
    "              ymax=maxY,\n",
    "              linewidth=1.0)\n",
    "\n",
    "greSTD = df_nonulls[set_variable].std()\n",
    "plt.vlines(df_nonulls[set_variable].mean()+greSTD,     # Plot red line at +1 std dev\n",
    "            ymin=0, \n",
    "            ymax=maxY,\n",
    "            linewidth=1.0, \n",
    "            color = \"red\")\n",
    "\n",
    "plt.vlines(df_nonulls[set_variable].mean()-greSTD,     # Plot red line at -1 std dev\n",
    "           ymin=0, \n",
    "           ymax=maxY,\n",
    "           linewidth=1.0, \n",
    "           color = \"red\")"
   ]
  },
  {
   "cell_type": "markdown",
   "metadata": {},
   "source": [
    "#### Question 9.  If our model had an assumption of a normal distribution would we meet that requirement? "
   ]
  },
  {
   "cell_type": "markdown",
   "metadata": {},
   "source": [
    "Answer: Yes"
   ]
  },
  {
   "cell_type": "markdown",
   "metadata": {},
   "source": [
    "#### Question 10.  Does this distribution need correction? If so, why? How? "
   ]
  },
  {
   "cell_type": "markdown",
   "metadata": {},
   "source": [
    "Answer: Prestige is a categorical variable so we could create dummy variables to convert it to continuous."
   ]
  },
  {
   "cell_type": "markdown",
   "metadata": {},
   "source": [
    "#### Question 11. Which of our variables are potentially colinear? "
   ]
  },
  {
   "cell_type": "code",
   "execution_count": 50,
   "metadata": {
    "collapsed": false
   },
   "outputs": [
    {
     "name": "stdout",
     "output_type": "stream",
     "text": [
      "             admit       gre       gpa  prestige\n",
      "admit     1.000000  0.181202  0.174116 -0.243563\n",
      "gre       0.181202  1.000000  0.382408 -0.124533\n",
      "gpa       0.174116  0.382408  1.000000 -0.060976\n",
      "prestige -0.243563 -0.124533 -0.060976  1.000000\n"
     ]
    },
    {
     "data": {
      "image/png": "[encoded data removed]",
      "text/plain": [
       "<matplotlib.figure.Figure at 0xc527860>"
      ]
     },
     "metadata": {},
     "output_type": "display_data"
    }
   ],
   "source": [
    "# create a correlation matrix for the data\n",
    "print(df_nonulls.corr())\n",
    "\n",
    "plt.figure()\n",
    "plt.plot(df_nonulls.gre, df_nonulls.gpa, '.')\n",
    "plt.xlabel('gre')\n",
    "plt.ylabel('gpa')\n",
    "plt.show()"
   ]
  },
  {
   "cell_type": "markdown",
   "metadata": {},
   "source": [
    "#### Question 12. What did you find?"
   ]
  },
  {
   "cell_type": "markdown",
   "metadata": {},
   "source": [
    "Answer: \n",
    "\n",
    "There isn't a strong correlation between any of the variables.\n",
    "gpa and gpe have the strongest correlation, at 0.38, which suggests a moderate positive correlation.\n",
    "Prestige and Admit has a negative correlaton of -0.24.\n",
    "Little correlation exists between gre and prestige (-0.12), and gpa and prestige (-0.06)\n",
    "\n",
    "gre and gpa seem to be capped at 800 and 4.\n"
   ]
  },
  {
   "cell_type": "markdown",
   "metadata": {},
   "source": [
    "#### Question 13. Write an analysis plan for exploring the association between grad school admissions rates and prestige of  undergraduate schools."
   ]
  },
  {
   "cell_type": "markdown",
   "metadata": {},
   "source": [
    "Answer: \n",
    "\n",
    "- Extract the data from the source ..., using the following parameters ...\n",
    "- Count the total number of observations - is your sample large enough to answer the problem statement?\n",
    "- Analyse data for missing values - too many missing values might compromise the analysis.\n",
    "- Calculate the summary & descriptive statistics; mean, quartiles and standard deviation for each predictor to understand the shape, are there outliers? Is the data normally distributed? \n",
    "- Create histograms and box plots for each predictor to help answer the above.\n",
    "- Can you make sense of the shape of the data, can you make sense of the outliers? Does the outlier range need to be adjusted?\n",
    "- Check for colinearity between predictors \n",
    "- Calculate the correlation between the outcome variable and predictors.\n",
    "- Review and remove predictors that are strongly correlated.\n",
    "        "
   ]
  },
  {
   "cell_type": "markdown",
   "metadata": {},
   "source": [
    "#### Question 14. What is your hypothesis? "
   ]
  },
  {
   "cell_type": "markdown",
   "metadata": {},
   "source": [
    "Answer: gpe, gra and prestige are correlated with university admissions."
   ]
  },
  {
   "cell_type": "markdown",
   "metadata": {},
   "source": [
    "## Bonus/Advanced"
   ]
  },
  {
   "cell_type": "markdown",
   "metadata": {},
   "source": [
    "#### 1. Bonus: Explore alternatives to dropping obervations with missing data"
   ]
  },
  {
   "cell_type": "markdown",
   "metadata": {},
   "source": [
    "#### 2. Bonus: Log transform the skewed data"
   ]
  },
  {
   "cell_type": "code",
   "execution_count": 62,
   "metadata": {
    "collapsed": false
   },
   "outputs": [
    {
     "name": "stdout",
     "output_type": "stream",
     "text": [
      "-0.146046988216\n",
      "-0.76062969651\n"
     ]
    },
    {
     "data": {
      "image/png": "[encoded data removed]",
      "text/plain": [
       "<matplotlib.figure.Figure at 0xe2af390>"
      ]
     },
     "metadata": {},
     "output_type": "display_data"
    }
   ],
   "source": [
    "# In my opinion the data isn't that skewed,  so I'm finding it hard to find a log that will correct the skew...\n",
    "\n",
    "\n",
    "log_admit = df_nonulls.copy()\n",
    "log_admit['gre'] = log_admit['gre'].apply(np.log) \n",
    "#df_nonulls[ 'gre'].plot(kind =\"density\") \n",
    "log_admit[ 'gre'].plot(kind =\"density\") \n",
    "print(df_nonulls[ 'gre'].skew())\n",
    "print(log_admit['gre'].skew()) \n",
    "\n"
   ]
  },
  {
   "cell_type": "markdown",
   "metadata": {},
   "source": [
    "#### 3. Advanced: Impute missing data"
   ]
  }
 ],
 "metadata": {
  "kernelspec": {
   "display_name": "Python 3",
   "language": "python",
   "name": "python3"
  },
  "language_info": {
   "codemirror_mode": {
    "name": "ipython",
    "version": 3
   },
   "file_extension": ".py",
   "mimetype": "text/x-python",
   "name": "python",
   "nbconvert_exporter": "python",
   "pygments_lexer": "ipython3",
   "version": "3.6.0"
  }
 },
 "nbformat": 4,
 "nbformat_minor": 0
}
