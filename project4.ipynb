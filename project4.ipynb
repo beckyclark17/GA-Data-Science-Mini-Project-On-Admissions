{
 "cells": [
  {
   "cell_type": "markdown",
   "metadata": {},
   "source": [
    "# Project 4\n",
    "\n",
    "In this project, you will summarize and present your analysis from Projects 1-3."
   ]
  },
  {
   "cell_type": "markdown",
   "metadata": {},
   "source": [
    "### Intro: Write a problem Statement/ Specific Aim for this project"
   ]
  },
  {
   "cell_type": "markdown",
   "metadata": {},
   "source": [
    "Answer:  \n",
    "Determine an asssociation with university admittance and graduate record exam scores,grade point average and prestige (a rank of the undergraduate institution) to predict the probablity of gaining a university place. "
   ]
  },
  {
   "cell_type": "markdown",
   "metadata": {},
   "source": [
    "### Dataset:  Write up a description of your data and any cleaning that was completed"
   ]
  },
  {
   "cell_type": "markdown",
   "metadata": {},
   "source": [
    "Answer:  \n",
    "The data is a sample of UCLA data which contains 400 observations and appears to be a snapshot of university admissions, with 1 binary outcome variable - admit, and 3 predictor variables; gpa, gre and prestige.  Prestige is a categorical variable describing the rank of college.  It is unclear if the dataset is aggregated (although it is assumed not)and the time period the data is captured from is unknown.   \n",
    "To prepare the data for analysis...  \n",
    "- Dummy variables were used to convert Prestige to a continuous data type which is suitable for regression techniques.  \n",
    "- 3 records containing null values were found and removed from the data. \n",
    "\n",
    "  \n",
    "  Variable | Description | Type of Variable\n",
    "---| ---| ---\n",
    "admit | Binary target variable, 0 = not admitted 1 = admitted | categorical\n",
    "gre | Graduate Record Exam score between 220 and 800  (incs Nulls) | continuous \n",
    "gpa | grade point average between 2.26 and 4.00 (incs Nulls) | continuous \n",
    "prestige | This is the rank of an under grads previous college (aka alma mater) 1= high, 4= low| categorical \n"
   ]
  },
  {
   "cell_type": "code",
   "execution_count": 136,
   "metadata": {
    "collapsed": false
   },
   "outputs": [
    {
     "data": {
      "text/plain": [
       "397"
      ]
     },
     "execution_count": 136,
     "metadata": {},
     "output_type": "execute_result"
    }
   ],
   "source": [
    "import pandas as pd \n",
    "import numpy as np \n",
    "\n",
    "import matplotlib.pyplot as plt\n",
    "%matplotlib inline\n",
    "\n",
    "df_raw = pd.read_csv('../assets/admissions.csv')\n",
    "df_raw = df_raw.dropna()\n",
    "\n",
    "dummy = pd.get_dummies(df_raw.prestige,prefix ='prestige')\n",
    "df = df_raw.ix[:,0:3].join(dummy)\n",
    "len(df)"
   ]
  },
  {
   "cell_type": "markdown",
   "metadata": {
    "collapsed": true
   },
   "source": [
    "### Demo: Provide a table that explains the data by admission status"
   ]
  },
  {
   "cell_type": "markdown",
   "metadata": {},
   "source": [
    "Mean (STD) or counts by admission status for each variable \n",
    "\n",
    "| Not Admitted | Admitted\n",
    "---| ---|---\n",
    "|Mean (std)|Mean (std)\n",
    "GPA | 3.3 (0.38)  | 3.5 (0.37)\n",
    "GRE |573 (116) | 618 (108)\n",
    "|Freq (%)|Freq (%)\n",
    "Prestige 1 | 28 (45.9%) | 33 (54.1%)\n",
    "Prestige 2 | 97 (64.7%) | 53 (35.3%)\n",
    "Prestige 3 |93 (76.9%) | 28 (23.1%)\n",
    "Prestige 4 |55 (82.1%) | 12 (17.9%)"
   ]
  },
  {
   "cell_type": "markdown",
   "metadata": {},
   "source": [
    "### Methods: Write up the methods used in your analysis"
   ]
  },
  {
   "cell_type": "markdown",
   "metadata": {},
   "source": [
    "Answer: For the Mean and STD I used a group by function to pivot the data by admit/ not admit, and then transposed it to produce the same shape as the table above. For the frequency I used a pandas crosstab.  \n",
    "More broadly...  \n",
    "\n",
    "- acquire and clean the data \n",
    "- calculate new variables, such as dummies or ratios. \n",
    "- check the distribution of each of the features, using mean, median, std and skew - are they normally distributed?\n",
    "- check for outliers and how best to handle them.\n",
    "- use crosstabs/ frequencies to get a sense of the odds for and against the outcome.\n"
   ]
  },
  {
   "cell_type": "markdown",
   "metadata": {},
   "source": [
    "### Results: Write up your results"
   ]
  },
  {
   "cell_type": "markdown",
   "metadata": {},
   "source": [
    "Answer: Admitted and not admitted share a similar distribution for the GPA variable.  Whilst gre shows more variance; those admitted to university are more likely to have a higher gre score (on average 618 vs 573).  \n",
    "As prestige rank increases the proportion being admitted to university decreases (from 54% to 18%)."
   ]
  },
  {
   "cell_type": "markdown",
   "metadata": {},
   "source": [
    "### Visuals: Provide a table or visualization of these results"
   ]
  },
  {
   "cell_type": "code",
   "execution_count": 95,
   "metadata": {
    "collapsed": false
   },
   "outputs": [
    {
     "name": "stdout",
     "output_type": "stream",
     "text": [
      "Std Dev\n",
      "admit                  0           1\n",
      "gre           116.052798  108.884884\n",
      "gpa             0.376773    0.371655\n",
      "prestige_1.0    0.303946    0.440285\n",
      "prestige_2.0    0.479487    0.495070\n",
      "prestige_3.0    0.474801    0.416207\n",
      "prestige_4.0    0.401831    0.293665\n"
     ]
    }
   ],
   "source": [
    "print ('Std Dev')\n",
    "print( df.groupby(df.admit).std().T)"
   ]
  },
  {
   "cell_type": "code",
   "execution_count": 98,
   "metadata": {
    "collapsed": false
   },
   "outputs": [
    {
     "name": "stdout",
     "output_type": "stream",
     "text": [
      "Mean\n",
      "admit                  0           1\n",
      "gre           573.579336  618.897638\n",
      "gpa             3.345404    3.489206\n",
      "prestige_1.0    0.102564    0.259843\n",
      "prestige_2.0    0.355311    0.417323\n",
      "prestige_3.0    0.340659    0.220472\n",
      "prestige_4.0    0.201465    0.094488\n",
      "\n"
     ]
    },
    {
     "data": {
      "text/plain": [
       "<matplotlib.collections.LineCollection at 0xbd5e550>"
      ]
     },
     "execution_count": 98,
     "metadata": {},
     "output_type": "execute_result"
    },
    {
     "data": {
      "image/png": "[encoded data removed]",
      "text/plain": [
       "<matplotlib.figure.Figure at 0xc3076a0>"
      ]
     },
     "metadata": {},
     "output_type": "display_data"
    }
   ],
   "source": [
    "print ('Mean')\n",
    "print( df.groupby(df.admit).mean().T) ## Couldn't figure out how to only select gre and gpa here?\n",
    "print()\n",
    "df['gre'].groupby(df.admit).plot( kind= 'density', legend = True, title = 'Comparing GRE mean by Admitted(1)/ Not Admitted (0)')\n",
    "plt.vlines(df['gre'][df.admit ==1].mean(),     # Plot black line at mean\n",
    "           ymin=0, \n",
    "           ymax=0.004,\n",
    "           linewidth=2.0,\n",
    "          color ='orange')\n",
    "\n",
    "plt.vlines(df['gre'][df.admit !=1].mean(),     # Plot black line at mean\n",
    "           ymin=0, \n",
    "           ymax=0.004,\n",
    "           linewidth=2.0,\n",
    "          color = 'blue')"
   ]
  },
  {
   "cell_type": "code",
   "execution_count": 100,
   "metadata": {
    "collapsed": false
   },
   "outputs": [
    {
     "data": {
      "text/plain": [
       "<matplotlib.collections.LineCollection at 0xd4c9860>"
      ]
     },
     "execution_count": 100,
     "metadata": {},
     "output_type": "execute_result"
    },
    {
     "data": {
      "image/png": "[encoded data removed]",
      "text/plain": [
       "<matplotlib.figure.Figure at 0xd4c9748>"
      ]
     },
     "metadata": {},
     "output_type": "display_data"
    }
   ],
   "source": [
    "df['gpa'].groupby(df.admit).plot( kind= 'density', legend = True, title = 'Comparing GPA mean by Admitted(1)/ Not Admitted (0)')\n",
    "plt.vlines(df['gpa'][df.admit ==1].mean(),     # Plot black line at mean\n",
    "           ymin=0, \n",
    "           ymax=1,\n",
    "           linewidth=2.0,\n",
    "          color ='orange')\n",
    "\n",
    "plt.vlines(df['gpa'][df.admit !=1].mean(),     # Plot black line at mean\n",
    "           ymin=0, \n",
    "           ymax=1,\n",
    "           linewidth=2.0,\n",
    "          color = 'blue')"
   ]
  },
  {
   "cell_type": "code",
   "execution_count": 133,
   "metadata": {
    "collapsed": false
   },
   "outputs": [
    {
     "name": "stdout",
     "output_type": "stream",
     "text": [
      "Freq\n",
      "admit      0   1\n",
      "prestige        \n",
      "1.0       28  33\n",
      "2.0       97  53\n",
      "3.0       93  28\n",
      "4.0       55  12\n",
      "\n",
      "Freq %\n",
      "admit            0         1\n",
      "prestige                    \n",
      "1.0       0.459016  0.540984\n",
      "2.0       0.646667  0.353333\n",
      "3.0       0.768595  0.231405\n",
      "4.0       0.820896  0.179104\n"
     ]
    }
   ],
   "source": [
    "print('Freq')\n",
    "print(pd.crosstab(df_raw.prestige, df_raw.admit))\n",
    "print()\n",
    "print('Freq %')\n",
    "print(pd.crosstab(df_raw.prestige, df_raw.admit).apply(lambda r: r/r.sum(), axis=1))"
   ]
  },
  {
   "cell_type": "markdown",
   "metadata": {},
   "source": [
    "<img src='placeholder.png' height= 25% width= 25%>"
   ]
  },
  {
   "cell_type": "markdown",
   "metadata": {},
   "source": [
    "<img src='placeholder.png' height= 25% width= 25%>"
   ]
  },
  {
   "cell_type": "markdown",
   "metadata": {},
   "source": [
    "### Discussion: Write up your discussion and future steps"
   ]
  },
  {
   "cell_type": "markdown",
   "metadata": {},
   "source": [
    "Answer:  \n",
    "As the outcome is binary, I would use a logistic regression model to prove the following hypothesis is true:  \n",
    "There is an association between the outcome and the predictors. For instance, those who studied at higher ranked colleges are more likely to be admitted to university.  \n",
    "\n",
    "Next steps...  \n",
    "- identify the model which best fits the problem - categorical/ continuous outcome?\n",
    "- test for correlation between the predictor/s and outcome variable \n",
    "- test for multicolinearity between the predictors \n",
    "- refine the data set to the features you want to include in the model.\n",
    "- build the model on the learn dataset\n",
    "- test the model against the test dataset\n",
    "- calculate confusion matrix and auc to evaluate the model/s. \n"
   ]
  }
 ],
 "metadata": {
  "kernelspec": {
   "display_name": "Python 3",
   "language": "python",
   "name": "python3"
  },
  "language_info": {
   "codemirror_mode": {
    "name": "ipython",
    "version": 3
   },
   "file_extension": ".py",
   "mimetype": "text/x-python",
   "name": "python",
   "nbconvert_exporter": "python",
   "pygments_lexer": "ipython3",
   "version": "3.6.0"
  }
 },
 "nbformat": 4,
 "nbformat_minor": 0
}
